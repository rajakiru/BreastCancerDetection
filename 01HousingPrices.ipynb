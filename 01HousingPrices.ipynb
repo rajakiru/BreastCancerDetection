{
  "metadata": {
    "kernelspec": {
      "display_name": "Python 3",
      "language": "python",
      "name": "python3"
    },
    "language_info": {
      "name": "python",
      "version": "3.10.13",
      "mimetype": "text/x-python",
      "codemirror_mode": {
        "name": "ipython",
        "version": 3
      },
      "pygments_lexer": "ipython3",
      "nbconvert_exporter": "python",
      "file_extension": ".py"
    },
    "kaggle": {
      "accelerator": "none",
      "dataSources": [
        {
          "sourceId": 10211,
          "databundleVersionId": 111096,
          "sourceType": "competition"
        }
      ],
      "isInternetEnabled": false,
      "language": "python",
      "sourceType": "notebook",
      "isGpuEnabled": false
    },
    "colab": {
      "name": "Exercise: Machine Learning Competitions",
      "provenance": []
    }
  },
  "nbformat_minor": 0,
  "nbformat": 4,
  "cells": [
    {
      "source": [
        "\n",
        "# IMPORTANT: RUN THIS CELL IN ORDER TO IMPORT YOUR KAGGLE DATA SOURCES\n",
        "# TO THE CORRECT LOCATION (/kaggle/input) IN YOUR NOTEBOOK,\n",
        "# THEN FEEL FREE TO DELETE THIS CELL.\n",
        "# NOTE: THIS NOTEBOOK ENVIRONMENT DIFFERS FROM KAGGLE'S PYTHON\n",
        "# ENVIRONMENT SO THERE MAY BE MISSING LIBRARIES USED BY YOUR\n",
        "# NOTEBOOK.\n",
        "\n",
        "import os\n",
        "import sys\n",
        "from tempfile import NamedTemporaryFile\n",
        "from urllib.request import urlopen\n",
        "from urllib.parse import unquote, urlparse\n",
        "from urllib.error import HTTPError\n",
        "from zipfile import ZipFile\n",
        "import tarfile\n",
        "import shutil\n",
        "\n",
        "CHUNK_SIZE = 40960\n",
        "DATA_SOURCE_MAPPING = ':https%3A%2F%2Fstorage.googleapis.com%2Fkaggle-competitions-data%2Fkaggle-v2%2F10211%2F111096%2Fbundle%2Farchive.zip%3FX-Goog-Algorithm%3DGOOG4-RSA-SHA256%26X-Goog-Credential%3Dgcp-kaggle-com%2540kaggle-161607.iam.gserviceaccount.com%252F20240723%252Fauto%252Fstorage%252Fgoog4_request%26X-Goog-Date%3D20240723T122341Z%26X-Goog-Expires%3D259200%26X-Goog-SignedHeaders%3Dhost%26X-Goog-Signature%3D37192b22a792dc1922dfcf1035e7f47ec74ea24151c8a0f021e061dba9ac90dffbbc9bc4493102ec8d5fe412a1df2377da0334c287b518713e8ffd83bbf0004960ed0c853c0543cab25b3ac716832eb633159dfdf74d1b297ec502fc186f18ee57bba7f681522aa8b30cc68059be3f8bdb0c9507fa826249a9d6742388967affac3e27870454c2d298c59ca2fd8745c471f1f3cd304ef1a744b3f647ec194886ddee46d2e8a448023d85d22757155d54c45fc4be7b3d22a3ef436c555c23eac8f1c518523a80efaf76e611382bd534793899cfca4e4454a726bd9087416ca789379208dd27ddb8566c45a962231b3ef49bb849bd9c065b3f0db689a98456cf1f'\n",
        "\n",
        "KAGGLE_INPUT_PATH='/kaggle/input'\n",
        "KAGGLE_WORKING_PATH='/kaggle/working'\n",
        "KAGGLE_SYMLINK='kaggle'\n",
        "\n",
        "!umount /kaggle/input/ 2> /dev/null\n",
        "shutil.rmtree('/kaggle/input', ignore_errors=True)\n",
        "os.makedirs(KAGGLE_INPUT_PATH, 0o777, exist_ok=True)\n",
        "os.makedirs(KAGGLE_WORKING_PATH, 0o777, exist_ok=True)\n",
        "\n",
        "try:\n",
        "  os.symlink(KAGGLE_INPUT_PATH, os.path.join(\"..\", 'input'), target_is_directory=True)\n",
        "except FileExistsError:\n",
        "  pass\n",
        "try:\n",
        "  os.symlink(KAGGLE_WORKING_PATH, os.path.join(\"..\", 'working'), target_is_directory=True)\n",
        "except FileExistsError:\n",
        "  pass\n",
        "\n",
        "for data_source_mapping in DATA_SOURCE_MAPPING.split(','):\n",
        "    directory, download_url_encoded = data_source_mapping.split(':')\n",
        "    download_url = unquote(download_url_encoded)\n",
        "    filename = urlparse(download_url).path\n",
        "    destination_path = os.path.join(KAGGLE_INPUT_PATH, directory)\n",
        "    try:\n",
        "        with urlopen(download_url) as fileres, NamedTemporaryFile() as tfile:\n",
        "            total_length = fileres.headers['content-length']\n",
        "            print(f'Downloading {directory}, {total_length} bytes compressed')\n",
        "            dl = 0\n",
        "            data = fileres.read(CHUNK_SIZE)\n",
        "            while len(data) > 0:\n",
        "                dl += len(data)\n",
        "                tfile.write(data)\n",
        "                done = int(50 * dl / int(total_length))\n",
        "                sys.stdout.write(f\"\\r[{'=' * done}{' ' * (50-done)}] {dl} bytes downloaded\")\n",
        "                sys.stdout.flush()\n",
        "                data = fileres.read(CHUNK_SIZE)\n",
        "            if filename.endswith('.zip'):\n",
        "              with ZipFile(tfile) as zfile:\n",
        "                zfile.extractall(destination_path)\n",
        "            else:\n",
        "              with tarfile.open(tfile.name) as tarfile:\n",
        "                tarfile.extractall(destination_path)\n",
        "            print(f'\\nDownloaded and uncompressed: {directory}')\n",
        "    except HTTPError as e:\n",
        "        print(f'Failed to load (likely expired) {download_url} to path {destination_path}')\n",
        "        continue\n",
        "    except OSError as e:\n",
        "        print(f'Failed to load {download_url} to path {destination_path}')\n",
        "        continue\n",
        "\n",
        "print('Data source import complete.')\n"
      ],
      "metadata": {
        "id": "wkFccSXyjC3G"
      },
      "cell_type": "code",
      "outputs": [],
      "execution_count": null
    },
    {
      "cell_type": "markdown",
      "source": [
        "# Introduction\n",
        "\n",
        "In this exercise, I created and submit predictions for a Kaggle competition. I then improve the model (e.g. by adding features, best node)."
      ],
      "metadata": {
        "id": "asnT5UE6jC3L"
      }
    },
    {
      "cell_type": "code",
      "source": [
        "# Set up code checking\n",
        "from learntools.core import binder\n",
        "binder.bind(globals())\n",
        "from learntools.machine_learning.ex7 import *\n",
        "\n",
        "# Set up filepaths\n",
        "import os\n",
        "if not os.path.exists(\"../input/train.csv\"):\n",
        "    os.symlink(\"../input/home-data-for-ml-course/train.csv\", \"../input/train.csv\")\n",
        "    os.symlink(\"../input/home-data-for-ml-course/test.csv\", \"../input/test.csv\")"
      ],
      "metadata": {
        "execution": {
          "iopub.status.busy": "2024-07-23T10:44:21.284951Z",
          "iopub.execute_input": "2024-07-23T10:44:21.285295Z",
          "iopub.status.idle": "2024-07-23T10:44:21.33039Z",
          "shell.execute_reply.started": "2024-07-23T10:44:21.285268Z",
          "shell.execute_reply": "2024-07-23T10:44:21.329147Z"
        },
        "trusted": true,
        "id": "PzoLMyoljC3N"
      },
      "execution_count": null,
      "outputs": []
    },
    {
      "cell_type": "code",
      "source": [
        "# Import helpful libraries\n",
        "import pandas as pd\n",
        "from sklearn.ensemble import RandomForestRegressor\n",
        "from sklearn.metrics import mean_absolute_error\n",
        "from sklearn.model_selection import train_test_split\n",
        "\n",
        "# Load the data, and separate the target\n",
        "iowa_file_path = '../input/train.csv'\n",
        "home_data = pd.read_csv(iowa_file_path)\n",
        "y = home_data.SalePrice\n",
        "\n",
        "# Create X (After completing the exercise, you can return to modify this line!)\n",
        "features = ['MSSubClass', 'LotArea', 'OverallQual', 'OverallCond', 'YearBuilt', 'YearRemodAdd',\n",
        " '1stFlrSF', '2ndFlrSF', 'LowQualFinSF', 'GrLivArea',  'FullBath',\n",
        "       'HalfBath', 'BedroomAbvGr', 'KitchenAbvGr',\n",
        "       'TotRmsAbvGrd',  'Fireplaces', 'WoodDeckSF', 'OpenPorchSF',\n",
        "       'EnclosedPorch', '3SsnPorch', 'ScreenPorch', 'PoolArea', 'MiscVal', 'MoSold', 'YrSold']\n",
        "\n",
        "# Select columns corresponding to features, and preview the data\n",
        "X = home_data[features]\n",
        "X.head()\n",
        "\n",
        "# Split into validation and training data\n",
        "train_X, val_X, train_y, val_y = train_test_split(X, y, random_state=1)\n",
        "\n",
        "# Define a random forest model\n",
        "rf_model = RandomForestRegressor(random_state=1)\n",
        "rf_model.fit(train_X, train_y)\n",
        "rf_val_predictions = rf_model.predict(val_X)\n",
        "rf_val_mae = mean_absolute_error(rf_val_predictions, val_y)\n",
        "\n",
        "print(\"Validation MAE for Random Forest Model: {:,.0f}\".format(rf_val_mae))"
      ],
      "metadata": {
        "execution": {
          "iopub.status.busy": "2024-07-23T11:17:47.501123Z",
          "iopub.execute_input": "2024-07-23T11:17:47.502374Z",
          "iopub.status.idle": "2024-07-23T11:17:48.414984Z",
          "shell.execute_reply.started": "2024-07-23T11:17:47.502335Z",
          "shell.execute_reply": "2024-07-23T11:17:48.413748Z"
        },
        "trusted": true,
        "id": "zdnLNPo1jC3O",
        "outputId": "b04ee3c0-12db-4abc-ab8b-c6bed8dc7491"
      },
      "execution_count": null,
      "outputs": [
        {
          "name": "stdout",
          "text": "Validation MAE for Random Forest Model: 17,906\n",
          "output_type": "stream"
        }
      ]
    },
    {
      "cell_type": "markdown",
      "source": [
        "# Train a model for the competition\n",
        "\n",
        "The code cell above trains a Random Forest model on **`train_X`** and **`train_y`**.  \n",
        "\n",
        "Use the code cell below to build a Random Forest model and train it on all of **`X`** and **`y`**."
      ],
      "metadata": {
        "id": "NA-GDeCljC3P"
      }
    },
    {
      "cell_type": "code",
      "source": [
        "def get_mae(max_leaf_nodes, train_X, val_X, train_y, val_y):\n",
        "    model = RandomForestRegressor(max_leaf_nodes=max_leaf_nodes, random_state=1)\n",
        "    model.fit(train_X, train_y)\n",
        "    preds_val = model.predict(val_X)\n",
        "    mae = mean_absolute_error(val_y, preds_val)\n",
        "    return(mae)"
      ],
      "metadata": {
        "execution": {
          "iopub.status.busy": "2024-07-23T11:20:14.592351Z",
          "iopub.execute_input": "2024-07-23T11:20:14.592758Z",
          "iopub.status.idle": "2024-07-23T11:20:14.601325Z",
          "shell.execute_reply.started": "2024-07-23T11:20:14.592725Z",
          "shell.execute_reply": "2024-07-23T11:20:14.600077Z"
        },
        "trusted": true,
        "id": "4qtap0iCjC3P"
      },
      "execution_count": null,
      "outputs": []
    },
    {
      "cell_type": "code",
      "source": [
        "candidate_max_leaf_nodes = [5, 25, 50, 100, 250, 500]\n",
        "# Write loop to find the ideal tree size from candidate_max_leaf_nodes\n",
        "for max_leaf_nodes in candidate_max_leaf_nodes:\n",
        "    my_mae = get_mae(max_leaf_nodes, train_X, val_X, train_y, val_y)\n",
        "    print(\"Max leaf nodes: %d  \\t\\t Mean Absolute Error:  %d\" %(max_leaf_nodes, my_mae))"
      ],
      "metadata": {
        "execution": {
          "iopub.status.busy": "2024-07-23T11:20:03.575628Z",
          "iopub.execute_input": "2024-07-23T11:20:03.576038Z",
          "iopub.status.idle": "2024-07-23T11:20:07.332545Z",
          "shell.execute_reply.started": "2024-07-23T11:20:03.576007Z",
          "shell.execute_reply": "2024-07-23T11:20:07.331293Z"
        },
        "trusted": true,
        "id": "fvZABQE3jC3Q",
        "outputId": "51f53406-184f-45c7-f4b4-bdacdc61edf7"
      },
      "execution_count": null,
      "outputs": [
        {
          "name": "stdout",
          "text": "Max leaf nodes: 5  \t\t Mean Absolute Error:  28756\nMax leaf nodes: 25  \t\t Mean Absolute Error:  20677\nMax leaf nodes: 50  \t\t Mean Absolute Error:  19141\nMax leaf nodes: 100  \t\t Mean Absolute Error:  18487\nMax leaf nodes: 250  \t\t Mean Absolute Error:  17895\nMax leaf nodes: 500  \t\t Mean Absolute Error:  17793\n",
          "output_type": "stream"
        }
      ]
    },
    {
      "cell_type": "code",
      "source": [
        "candidate_max_leaf_nodes = [500, 1000, 2000]\n",
        "# Write loop to find the ideal tree size from candidate_max_leaf_nodes\n",
        "for max_leaf_nodes in candidate_max_leaf_nodes:\n",
        "    my_mae = get_mae(max_leaf_nodes, train_X, val_X, train_y, val_y)\n",
        "    print(\"Max leaf nodes: %d  \\t\\t Mean Absolute Error:  %d\" %(max_leaf_nodes, my_mae))"
      ],
      "metadata": {
        "execution": {
          "iopub.status.busy": "2024-07-23T11:20:17.904445Z",
          "iopub.execute_input": "2024-07-23T11:20:17.904812Z",
          "iopub.status.idle": "2024-07-23T11:20:20.688046Z",
          "shell.execute_reply.started": "2024-07-23T11:20:17.904787Z",
          "shell.execute_reply": "2024-07-23T11:20:20.686668Z"
        },
        "trusted": true,
        "id": "bL376te8jC3Q",
        "outputId": "416f4863-55bb-4b33-e722-580361c0537a"
      },
      "execution_count": null,
      "outputs": [
        {
          "name": "stdout",
          "text": "Max leaf nodes: 500  \t\t Mean Absolute Error:  17695\nMax leaf nodes: 1000  \t\t Mean Absolute Error:  17685\nMax leaf nodes: 2000  \t\t Mean Absolute Error:  17685\n",
          "output_type": "stream"
        }
      ]
    },
    {
      "cell_type": "code",
      "source": [
        "# To improve accuracy, create a new Random Forest model which you will train on all training data\n",
        "rf_model_on_full_data = RandomForestRegressor(max_leaf_nodes=1000, random_state=1)\n",
        "# fit rf_model_on_full_data on all data from the training data\n",
        "rf_model_on_full_data.fit(X,y)"
      ],
      "metadata": {
        "execution": {
          "iopub.status.busy": "2024-07-23T11:20:22.961734Z",
          "iopub.execute_input": "2024-07-23T11:20:22.962621Z",
          "iopub.status.idle": "2024-07-23T11:20:24.141391Z",
          "shell.execute_reply.started": "2024-07-23T11:20:22.962578Z",
          "shell.execute_reply": "2024-07-23T11:20:24.140204Z"
        },
        "trusted": true,
        "id": "jc7Jwq6kjC3R",
        "outputId": "e2cce8a3-fee9-4344-fecd-8c8173bd32b0"
      },
      "execution_count": null,
      "outputs": [
        {
          "execution_count": 56,
          "output_type": "execute_result",
          "data": {
            "text/plain": "RandomForestRegressor(max_leaf_nodes=1000, random_state=1)",
            "text/html": "<style>#sk-container-id-3 {color: black;background-color: white;}#sk-container-id-3 pre{padding: 0;}#sk-container-id-3 div.sk-toggleable {background-color: white;}#sk-container-id-3 label.sk-toggleable__label {cursor: pointer;display: block;width: 100%;margin-bottom: 0;padding: 0.3em;box-sizing: border-box;text-align: center;}#sk-container-id-3 label.sk-toggleable__label-arrow:before {content: \"▸\";float: left;margin-right: 0.25em;color: #696969;}#sk-container-id-3 label.sk-toggleable__label-arrow:hover:before {color: black;}#sk-container-id-3 div.sk-estimator:hover label.sk-toggleable__label-arrow:before {color: black;}#sk-container-id-3 div.sk-toggleable__content {max-height: 0;max-width: 0;overflow: hidden;text-align: left;background-color: #f0f8ff;}#sk-container-id-3 div.sk-toggleable__content pre {margin: 0.2em;color: black;border-radius: 0.25em;background-color: #f0f8ff;}#sk-container-id-3 input.sk-toggleable__control:checked~div.sk-toggleable__content {max-height: 200px;max-width: 100%;overflow: auto;}#sk-container-id-3 input.sk-toggleable__control:checked~label.sk-toggleable__label-arrow:before {content: \"▾\";}#sk-container-id-3 div.sk-estimator input.sk-toggleable__control:checked~label.sk-toggleable__label {background-color: #d4ebff;}#sk-container-id-3 div.sk-label input.sk-toggleable__control:checked~label.sk-toggleable__label {background-color: #d4ebff;}#sk-container-id-3 input.sk-hidden--visually {border: 0;clip: rect(1px 1px 1px 1px);clip: rect(1px, 1px, 1px, 1px);height: 1px;margin: -1px;overflow: hidden;padding: 0;position: absolute;width: 1px;}#sk-container-id-3 div.sk-estimator {font-family: monospace;background-color: #f0f8ff;border: 1px dotted black;border-radius: 0.25em;box-sizing: border-box;margin-bottom: 0.5em;}#sk-container-id-3 div.sk-estimator:hover {background-color: #d4ebff;}#sk-container-id-3 div.sk-parallel-item::after {content: \"\";width: 100%;border-bottom: 1px solid gray;flex-grow: 1;}#sk-container-id-3 div.sk-label:hover label.sk-toggleable__label {background-color: #d4ebff;}#sk-container-id-3 div.sk-serial::before {content: \"\";position: absolute;border-left: 1px solid gray;box-sizing: border-box;top: 0;bottom: 0;left: 50%;z-index: 0;}#sk-container-id-3 div.sk-serial {display: flex;flex-direction: column;align-items: center;background-color: white;padding-right: 0.2em;padding-left: 0.2em;position: relative;}#sk-container-id-3 div.sk-item {position: relative;z-index: 1;}#sk-container-id-3 div.sk-parallel {display: flex;align-items: stretch;justify-content: center;background-color: white;position: relative;}#sk-container-id-3 div.sk-item::before, #sk-container-id-3 div.sk-parallel-item::before {content: \"\";position: absolute;border-left: 1px solid gray;box-sizing: border-box;top: 0;bottom: 0;left: 50%;z-index: -1;}#sk-container-id-3 div.sk-parallel-item {display: flex;flex-direction: column;z-index: 1;position: relative;background-color: white;}#sk-container-id-3 div.sk-parallel-item:first-child::after {align-self: flex-end;width: 50%;}#sk-container-id-3 div.sk-parallel-item:last-child::after {align-self: flex-start;width: 50%;}#sk-container-id-3 div.sk-parallel-item:only-child::after {width: 0;}#sk-container-id-3 div.sk-dashed-wrapped {border: 1px dashed gray;margin: 0 0.4em 0.5em 0.4em;box-sizing: border-box;padding-bottom: 0.4em;background-color: white;}#sk-container-id-3 div.sk-label label {font-family: monospace;font-weight: bold;display: inline-block;line-height: 1.2em;}#sk-container-id-3 div.sk-label-container {text-align: center;}#sk-container-id-3 div.sk-container {/* jupyter's `normalize.less` sets `[hidden] { display: none; }` but bootstrap.min.css set `[hidden] { display: none !important; }` so we also need the `!important` here to be able to override the default hidden behavior on the sphinx rendered scikit-learn.org. See: https://github.com/scikit-learn/scikit-learn/issues/21755 */display: inline-block !important;position: relative;}#sk-container-id-3 div.sk-text-repr-fallback {display: none;}</style><div id=\"sk-container-id-3\" class=\"sk-top-container\"><div class=\"sk-text-repr-fallback\"><pre>RandomForestRegressor(max_leaf_nodes=1000, random_state=1)</pre><b>In a Jupyter environment, please rerun this cell to show the HTML representation or trust the notebook. <br />On GitHub, the HTML representation is unable to render, please try loading this page with nbviewer.org.</b></div><div class=\"sk-container\" hidden><div class=\"sk-item\"><div class=\"sk-estimator sk-toggleable\"><input class=\"sk-toggleable__control sk-hidden--visually\" id=\"sk-estimator-id-3\" type=\"checkbox\" checked><label for=\"sk-estimator-id-3\" class=\"sk-toggleable__label sk-toggleable__label-arrow\">RandomForestRegressor</label><div class=\"sk-toggleable__content\"><pre>RandomForestRegressor(max_leaf_nodes=1000, random_state=1)</pre></div></div></div></div></div>"
          },
          "metadata": {}
        }
      ]
    },
    {
      "cell_type": "markdown",
      "source": [
        "Now, read the file of \"test\" data, and apply your model to make predictions."
      ],
      "metadata": {
        "id": "7a4FPqTRjC3S"
      }
    },
    {
      "cell_type": "code",
      "source": [
        "# path to file you will use for predictions\n",
        "test_data_path = '../input/test.csv'"
      ],
      "metadata": {
        "execution": {
          "iopub.status.busy": "2024-07-23T11:20:27.23944Z",
          "iopub.execute_input": "2024-07-23T11:20:27.240509Z",
          "iopub.status.idle": "2024-07-23T11:20:27.24501Z",
          "shell.execute_reply.started": "2024-07-23T11:20:27.240472Z",
          "shell.execute_reply": "2024-07-23T11:20:27.243761Z"
        },
        "trusted": true,
        "id": "fu0sW6GZjC3S"
      },
      "execution_count": null,
      "outputs": []
    },
    {
      "cell_type": "code",
      "source": [
        "# read test data file using pandas\n",
        "test_data = pd.read_csv(test_data_path)"
      ],
      "metadata": {
        "execution": {
          "iopub.status.busy": "2024-07-23T11:06:15.98743Z",
          "iopub.execute_input": "2024-07-23T11:06:15.987838Z",
          "iopub.status.idle": "2024-07-23T11:06:16.017139Z",
          "shell.execute_reply.started": "2024-07-23T11:06:15.987801Z",
          "shell.execute_reply": "2024-07-23T11:06:16.015759Z"
        },
        "trusted": true,
        "id": "6fy8GRRQjC3S"
      },
      "execution_count": null,
      "outputs": []
    },
    {
      "cell_type": "code",
      "source": [
        "test_data.describe()"
      ],
      "metadata": {
        "execution": {
          "iopub.status.busy": "2024-07-23T10:53:08.185346Z",
          "iopub.execute_input": "2024-07-23T10:53:08.185707Z",
          "iopub.status.idle": "2024-07-23T10:53:08.279788Z",
          "shell.execute_reply.started": "2024-07-23T10:53:08.185681Z",
          "shell.execute_reply": "2024-07-23T10:53:08.278697Z"
        },
        "trusted": true,
        "id": "HW3-6nKKjC3S"
      },
      "execution_count": null,
      "outputs": []
    },
    {
      "cell_type": "code",
      "source": [
        "# create test_X which comes from test_data but includes only the columns you used for prediction.\n",
        "# The list of columns is stored in a variable called features\n",
        "\n",
        "features = ['MSSubClass', 'LotArea', 'OverallQual', 'OverallCond', 'YearBuilt', 'YearRemodAdd',\n",
        " '1stFlrSF', '2ndFlrSF', 'LowQualFinSF', 'GrLivArea',  'FullBath',\n",
        "       'HalfBath', 'BedroomAbvGr', 'KitchenAbvGr',\n",
        "       'TotRmsAbvGrd',  'Fireplaces', 'WoodDeckSF', 'OpenPorchSF',\n",
        "       'EnclosedPorch', '3SsnPorch', 'ScreenPorch', 'PoolArea', 'MiscVal', 'MoSold', 'YrSold']\n",
        "\n",
        "test_X = test_data[features]\n",
        "test_X.head()"
      ],
      "metadata": {
        "execution": {
          "iopub.status.busy": "2024-07-23T11:20:56.702474Z",
          "iopub.execute_input": "2024-07-23T11:20:56.702898Z",
          "iopub.status.idle": "2024-07-23T11:20:56.724863Z",
          "shell.execute_reply.started": "2024-07-23T11:20:56.702851Z",
          "shell.execute_reply": "2024-07-23T11:20:56.723613Z"
        },
        "trusted": true,
        "id": "SxhI62oRjC3T",
        "outputId": "26af7e81-6f06-4f7c-dc27-626ea34be14f"
      },
      "execution_count": null,
      "outputs": [
        {
          "execution_count": 58,
          "output_type": "execute_result",
          "data": {
            "text/plain": "   MSSubClass  LotArea  OverallQual  OverallCond  YearBuilt  YearRemodAdd  \\\n0          20    11622            5            6       1961          1961   \n1          20    14267            6            6       1958          1958   \n2          60    13830            5            5       1997          1998   \n3          60     9978            6            6       1998          1998   \n4         120     5005            8            5       1992          1992   \n\n   1stFlrSF  2ndFlrSF  LowQualFinSF  GrLivArea  ...  Fireplaces  WoodDeckSF  \\\n0       896         0             0        896  ...           0         140   \n1      1329         0             0       1329  ...           0         393   \n2       928       701             0       1629  ...           1         212   \n3       926       678             0       1604  ...           1         360   \n4      1280         0             0       1280  ...           0           0   \n\n   OpenPorchSF  EnclosedPorch  3SsnPorch  ScreenPorch  PoolArea  MiscVal  \\\n0            0              0          0          120         0        0   \n1           36              0          0            0         0    12500   \n2           34              0          0            0         0        0   \n3           36              0          0            0         0        0   \n4           82              0          0          144         0        0   \n\n   MoSold  YrSold  \n0       6    2010  \n1       6    2010  \n2       3    2010  \n3       6    2010  \n4       1    2010  \n\n[5 rows x 25 columns]",
            "text/html": "<div>\n<style scoped>\n    .dataframe tbody tr th:only-of-type {\n        vertical-align: middle;\n    }\n\n    .dataframe tbody tr th {\n        vertical-align: top;\n    }\n\n    .dataframe thead th {\n        text-align: right;\n    }\n</style>\n<table border=\"1\" class=\"dataframe\">\n  <thead>\n    <tr style=\"text-align: right;\">\n      <th></th>\n      <th>MSSubClass</th>\n      <th>LotArea</th>\n      <th>OverallQual</th>\n      <th>OverallCond</th>\n      <th>YearBuilt</th>\n      <th>YearRemodAdd</th>\n      <th>1stFlrSF</th>\n      <th>2ndFlrSF</th>\n      <th>LowQualFinSF</th>\n      <th>GrLivArea</th>\n      <th>...</th>\n      <th>Fireplaces</th>\n      <th>WoodDeckSF</th>\n      <th>OpenPorchSF</th>\n      <th>EnclosedPorch</th>\n      <th>3SsnPorch</th>\n      <th>ScreenPorch</th>\n      <th>PoolArea</th>\n      <th>MiscVal</th>\n      <th>MoSold</th>\n      <th>YrSold</th>\n    </tr>\n  </thead>\n  <tbody>\n    <tr>\n      <th>0</th>\n      <td>20</td>\n      <td>11622</td>\n      <td>5</td>\n      <td>6</td>\n      <td>1961</td>\n      <td>1961</td>\n      <td>896</td>\n      <td>0</td>\n      <td>0</td>\n      <td>896</td>\n      <td>...</td>\n      <td>0</td>\n      <td>140</td>\n      <td>0</td>\n      <td>0</td>\n      <td>0</td>\n      <td>120</td>\n      <td>0</td>\n      <td>0</td>\n      <td>6</td>\n      <td>2010</td>\n    </tr>\n    <tr>\n      <th>1</th>\n      <td>20</td>\n      <td>14267</td>\n      <td>6</td>\n      <td>6</td>\n      <td>1958</td>\n      <td>1958</td>\n      <td>1329</td>\n      <td>0</td>\n      <td>0</td>\n      <td>1329</td>\n      <td>...</td>\n      <td>0</td>\n      <td>393</td>\n      <td>36</td>\n      <td>0</td>\n      <td>0</td>\n      <td>0</td>\n      <td>0</td>\n      <td>12500</td>\n      <td>6</td>\n      <td>2010</td>\n    </tr>\n    <tr>\n      <th>2</th>\n      <td>60</td>\n      <td>13830</td>\n      <td>5</td>\n      <td>5</td>\n      <td>1997</td>\n      <td>1998</td>\n      <td>928</td>\n      <td>701</td>\n      <td>0</td>\n      <td>1629</td>\n      <td>...</td>\n      <td>1</td>\n      <td>212</td>\n      <td>34</td>\n      <td>0</td>\n      <td>0</td>\n      <td>0</td>\n      <td>0</td>\n      <td>0</td>\n      <td>3</td>\n      <td>2010</td>\n    </tr>\n    <tr>\n      <th>3</th>\n      <td>60</td>\n      <td>9978</td>\n      <td>6</td>\n      <td>6</td>\n      <td>1998</td>\n      <td>1998</td>\n      <td>926</td>\n      <td>678</td>\n      <td>0</td>\n      <td>1604</td>\n      <td>...</td>\n      <td>1</td>\n      <td>360</td>\n      <td>36</td>\n      <td>0</td>\n      <td>0</td>\n      <td>0</td>\n      <td>0</td>\n      <td>0</td>\n      <td>6</td>\n      <td>2010</td>\n    </tr>\n    <tr>\n      <th>4</th>\n      <td>120</td>\n      <td>5005</td>\n      <td>8</td>\n      <td>5</td>\n      <td>1992</td>\n      <td>1992</td>\n      <td>1280</td>\n      <td>0</td>\n      <td>0</td>\n      <td>1280</td>\n      <td>...</td>\n      <td>0</td>\n      <td>0</td>\n      <td>82</td>\n      <td>0</td>\n      <td>0</td>\n      <td>144</td>\n      <td>0</td>\n      <td>0</td>\n      <td>1</td>\n      <td>2010</td>\n    </tr>\n  </tbody>\n</table>\n<p>5 rows × 25 columns</p>\n</div>"
          },
          "metadata": {}
        }
      ]
    },
    {
      "cell_type": "code",
      "source": [],
      "metadata": {
        "execution": {
          "iopub.status.busy": "2024-07-23T10:59:23.007229Z",
          "iopub.execute_input": "2024-07-23T10:59:23.007631Z",
          "iopub.status.idle": "2024-07-23T10:59:23.028921Z",
          "shell.execute_reply.started": "2024-07-23T10:59:23.007599Z",
          "shell.execute_reply": "2024-07-23T10:59:23.027814Z"
        },
        "trusted": true,
        "id": "4KDPh7IMjC3T"
      },
      "execution_count": null,
      "outputs": []
    },
    {
      "cell_type": "code",
      "source": [
        "# make predictions which we will submit.\n",
        "test_preds = rf_model_on_full_data.predict(test_X)"
      ],
      "metadata": {
        "execution": {
          "iopub.status.busy": "2024-07-23T11:20:59.68241Z",
          "iopub.execute_input": "2024-07-23T11:20:59.682862Z",
          "iopub.status.idle": "2024-07-23T11:20:59.724623Z",
          "shell.execute_reply.started": "2024-07-23T11:20:59.68283Z",
          "shell.execute_reply": "2024-07-23T11:20:59.723454Z"
        },
        "trusted": true,
        "id": "yqzaBVCsjC3T"
      },
      "execution_count": null,
      "outputs": []
    },
    {
      "cell_type": "markdown",
      "source": [
        "Before submitting, run a check to make sure your `test_preds` have the right format."
      ],
      "metadata": {
        "id": "Bsky8S2HjC3T"
      }
    },
    {
      "cell_type": "code",
      "source": [
        "# Check your answer (To get credit for completing the exercise, you must get a \"Correct\" result!)\n",
        "step_1.check()\n",
        "# step_1.solution()"
      ],
      "metadata": {
        "execution": {
          "iopub.status.busy": "2024-07-23T11:21:02.480625Z",
          "iopub.execute_input": "2024-07-23T11:21:02.481154Z",
          "iopub.status.idle": "2024-07-23T11:21:02.49009Z",
          "shell.execute_reply.started": "2024-07-23T11:21:02.48112Z",
          "shell.execute_reply": "2024-07-23T11:21:02.488848Z"
        },
        "trusted": true,
        "id": "GyMtWTPCjC3U",
        "outputId": "3353c379-19b2-4db5-a973-4c23a389618b"
      },
      "execution_count": null,
      "outputs": [
        {
          "output_type": "display_data",
          "data": {
            "text/plain": "<IPython.core.display.Javascript object>",
            "application/javascript": "parent.postMessage({\"jupyterEvent\": \"custom.exercise_interaction\", \"data\": {\"outcomeType\": 1, \"valueTowardsCompletion\": 1.0, \"interactionType\": 1, \"questionType\": 2, \"questionId\": \"1_CheckSubmittablePreds\", \"learnToolsVersion\": \"0.3.4\", \"failureMessage\": \"\", \"exceptionClass\": \"\", \"trace\": \"\"}}, \"*\")"
          },
          "metadata": {}
        },
        {
          "output_type": "display_data",
          "data": {
            "text/plain": "Correct",
            "text/markdown": "<span style=\"color:#33cc33\">Correct</span>"
          },
          "metadata": {}
        }
      ]
    },
    {
      "cell_type": "code",
      "source": [],
      "metadata": {
        "id": "AHJT7B0cjC3U"
      },
      "execution_count": null,
      "outputs": []
    },
    {
      "cell_type": "markdown",
      "source": [
        "# Generate a submission\n",
        "\n",
        "Run the code cell below to generate a CSV file with your predictions that you can use to submit to the competition."
      ],
      "metadata": {
        "id": "u-E16x8rjC3U"
      }
    },
    {
      "cell_type": "code",
      "source": [
        "# Run the code to save predictions in the format used for competition scoring\n",
        "\n",
        "output = pd.DataFrame({'Id': test_data.Id,\n",
        "                       'SalePrice': test_preds})\n",
        "output.to_csv('submission.csv', index=False)"
      ],
      "metadata": {
        "execution": {
          "iopub.status.busy": "2024-07-23T11:06:26.918421Z",
          "iopub.execute_input": "2024-07-23T11:06:26.918819Z",
          "iopub.status.idle": "2024-07-23T11:06:26.933041Z",
          "shell.execute_reply.started": "2024-07-23T11:06:26.918788Z",
          "shell.execute_reply": "2024-07-23T11:06:26.931598Z"
        },
        "trusted": true,
        "id": "hVL9-rFhjC3U"
      },
      "execution_count": null,
      "outputs": []
    },
    {
      "cell_type": "markdown",
      "source": [
        "# Submit to the competition\n",
        "\n",
        "To test your results, you'll need to join the competition (if you haven't already).  So open a new window by clicking on **[this link](https://www.kaggle.com/c/home-data-for-ml-course)**.  Then click on the **Join Competition** button.\n",
        "\n",
        "![join competition image](https://storage.googleapis.com/kaggle-media/learn/images/axBzctl.png)\n",
        "\n",
        "Next, follow the instructions below:\n",
        "1. Begin by clicking on the **Save Version** button in the top right corner of the window.  This will generate a pop-up window.  \n",
        "2. Ensure that the **Save and Run All** option is selected, and then click on the **Save** button.\n",
        "3. This generates a window in the bottom left corner of the notebook.  After it has finished running, click on the number to the right of the **Save Version** button.  This pulls up a list of versions on the right of the screen.  Click on the ellipsis **(...)** to the right of the most recent version, and select **Open in Viewer**.  This brings you into view mode of the same page. You will need to scroll down to get back to these instructions.\n",
        "4. Click on the **Data** tab near the top of the screen.  Then, click on the file you would like to submit, and click on the **Submit** button to submit your results to the leaderboard.\n",
        "\n",
        "You have now successfully submitted to the competition!\n",
        "\n",
        "If you want to keep working to improve your performance, select the **Edit** button in the top right of the screen. Then you can change your code and repeat the process. There's a lot of room to improve, and you will climb up the leaderboard as you work.\n",
        "\n",
        "\n",
        "# Continue Your Progress\n",
        "There are many ways to improve your model, and **experimenting is a great way to learn at this point.**\n",
        "\n",
        "The best way to improve your model is to add features.  To add more features to the data, revisit the first code cell, and change this line of code to include more column names:\n",
        "```python\n",
        "features = ['LotArea', 'YearBuilt', '1stFlrSF', '2ndFlrSF', 'FullBath', 'BedroomAbvGr', 'TotRmsAbvGrd']\n",
        "```\n",
        "\n",
        "Some features will cause errors because of issues like missing values or non-numeric data types.  Here is a complete list of potential columns that you might like to use, and that won't throw errors:\n",
        "- 'MSSubClass'\n",
        "- 'LotArea'\n",
        "- 'OverallQual'\n",
        "- 'OverallCond'\n",
        "- 'YearBuilt'\n",
        "- 'YearRemodAdd'\n",
        "- '1stFlrSF'\n",
        "- '2ndFlrSF'\n",
        "- 'LowQualFinSF'\n",
        "- 'GrLivArea'\n",
        "- 'FullBath'\n",
        "- 'HalfBath'\n",
        "- 'BedroomAbvGr'\n",
        "- 'KitchenAbvGr'\n",
        "- 'TotRmsAbvGrd'\n",
        "- 'Fireplaces'\n",
        "- 'WoodDeckSF'\n",
        "- 'OpenPorchSF'\n",
        "- 'EnclosedPorch'\n",
        "- '3SsnPorch'\n",
        "- 'ScreenPorch'\n",
        "- 'PoolArea'\n",
        "- 'MiscVal'\n",
        "- 'MoSold'\n",
        "- 'YrSold'\n",
        "\n",
        "Look at the list of columns and think about what might affect home prices.  To learn more about each of these features, take a look at the data description on the **[competition page](https://www.kaggle.com/c/home-data-for-ml-course/data)**.\n",
        "\n",
        "After updating the code cell above that defines the features, re-run all of the code cells to evaluate the model and generate a new submission file.  \n",
        "\n",
        "\n",
        "# What's next?\n",
        "\n",
        "As mentioned above, some of the features will throw an error if you try to use them to train your model.  The **[Intermediate Machine Learning](https://www.kaggle.com/learn/intermediate-machine-learning)** course will teach you how to handle these types of features. You will also learn to use **xgboost**, a technique giving even better accuracy than Random Forest.\n",
        "\n",
        "The **[Pandas](https://kaggle.com/Learn/Pandas)** course will give you the data manipulation skills to quickly go from conceptual idea to implementation in your data science projects.\n",
        "\n",
        "You are also ready for the **[Deep Learning](https://kaggle.com/Learn/intro-to-Deep-Learning)** course, where you will build models with better-than-human level performance at computer vision tasks."
      ],
      "metadata": {
        "id": "ye31xFfQjC3U"
      }
    },
    {
      "cell_type": "markdown",
      "source": [
        "---\n",
        "\n",
        "\n",
        "\n",
        "\n",
        "*Have questions or comments? Visit the [course discussion forum](https://www.kaggle.com/learn/intro-to-machine-learning/discussion) to chat with other learners.*"
      ],
      "metadata": {
        "id": "e3J8S_n8jC3V"
      }
    }
  ]
}